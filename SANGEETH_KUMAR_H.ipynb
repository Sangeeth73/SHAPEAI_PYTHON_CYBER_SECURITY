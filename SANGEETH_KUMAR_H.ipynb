{
 "cells": [
  {
   "cell_type": "code",
   "execution_count": 1,
   "id": "005d237d-a321-4306-8e74-63c4ccbb8c4b",
   "metadata": {},
   "outputs": [
    {
     "name": "stdin",
     "output_type": "stream",
     "text": [
      "Enter the city name:  CHENNAI\n"
     ]
    },
    {
     "name": "stdout",
     "output_type": "stream",
     "text": [
      "-------------------------------------------------------------\n",
      "Weather Stats for - CHENNAI  || 27 Jul 2021 | 08:59:43 PM\n",
      "-------------------------------------------------------------\n",
      "Current temperature is: 31.99 deg C\n",
      "Current weather desc  : haze\n",
      "Current Humidity      : 70 %\n",
      "Current wind speed    : 2.06 kmph\n",
      "====================================================\n"
     ]
    }
   ],
   "source": [
    "\n",
    "import requests\n",
    "#import os\n",
    "from datetime import datetime\n",
    "\n",
    "api_key = 'de38ecaa41472a83a081feaf9974e87c'\n",
    "location = input(\"Enter the city name: \")\n",
    "\n",
    "complete_api_link = \"https://api.openweathermap.org/data/2.5/weather?q=\"+location+\"&appid=\"+api_key\n",
    "api_link = requests.get(complete_api_link)\n",
    "api_data = api_link.json()\n",
    "\n",
    "#create variables to store and display data\n",
    "temp_city = ((api_data['main']['temp']) - 273.15)\n",
    "weather_desc = api_data['weather'][0]['description']\n",
    "hmdt = api_data['main']['humidity']\n",
    "wind_spd = api_data['wind']['speed']\n",
    "date_time = datetime.now().strftime(\"%d %b %Y | %I:%M:%S %p\")\n",
    "\n",
    "print (\"-------------------------------------------------------------\")\n",
    "print (\"Weather Stats for - {}  || {}\".format(location.upper(), date_time))\n",
    "print (\"-------------------------------------------------------------\")\n",
    "\n",
    "print (\"Current temperature is: {:.2f} deg C\".format(temp_city))\n",
    "print (\"Current weather desc  :\",weather_desc)\n",
    "print (\"Current Humidity      :\",hmdt, '%')\n",
    "print (\"Current wind speed    :\",wind_spd ,'kmph')\n",
    "\n",
    "print(\"====================================================\")\n",
    "\n",
    "\n",
    "# making a list so that i can print the info to a txt \n",
    "txtlist = [temp_city,weather_desc,hmdt,wind_spd,date_time]\n",
    "#using open() buit-in function to write to a text file\n",
    "with open(\"textfile.txt\" , mode= 'w' ,encoding= 'utf-8') as f :     \n",
    "                                     #encoding = utf-8 for linux and cp1252 for win\n",
    "    f.write(\"------------------------------------------------------------- \\n \")   \n",
    "    f.write(\"Weather Stats for - {}  || {}\".format(location.upper(), date_time))\n",
    "    f.write(\"\\n ------------------------------------------------------------- \\n\")\n",
    "    f.write(\"Current temperature is: {:.2f} deg C\\n\".format(txtlist[0]))\n",
    "    \n",
    "    f.write(\"{},{} \\n\".format(\"Current weather desc  :\" ,txtlist[1]))\n",
    "    f.write(\"{},{},{} \\n\".format(\"Current Humidity      :\",txtlist[2],\"%\"))\n",
    "    f.write(\"{},{},{} \\n\".format(\"Current wind speed    :\",txtlist[3],\"kmph\"))\n",
    "    f.write(\"====================================================\")"
   ]
  },
  {
   "cell_type": "code",
   "execution_count": null,
   "id": "f15a7395-5664-42d2-8aba-63a48b3b4cee",
   "metadata": {},
   "outputs": [],
   "source": []
  }
 ],
 "metadata": {
  "kernelspec": {
   "display_name": "Python 3",
   "language": "python",
   "name": "python3"
  },
  "language_info": {
   "codemirror_mode": {
    "name": "ipython",
    "version": 3
   },
   "file_extension": ".py",
   "mimetype": "text/x-python",
   "name": "python",
   "nbconvert_exporter": "python",
   "pygments_lexer": "ipython3",
   "version": "3.8.8"
  }
 },
 "nbformat": 4,
 "nbformat_minor": 5
}
